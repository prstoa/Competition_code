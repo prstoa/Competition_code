{
 "cells": [
  {
   "cell_type": "code",
   "execution_count": 1,
   "metadata": {
    "_cell_guid": "b1076dfc-b9ad-4769-8c92-a6c4dae69d19",
    "_uuid": "8f2839f25d086af736a60e9eeb907d3b93b6e0e5",
    "execution": {
     "iopub.execute_input": "2020-11-25T06:06:45.658893Z",
     "iopub.status.busy": "2020-11-25T06:06:45.656623Z",
     "iopub.status.idle": "2020-11-25T06:06:45.662094Z",
     "shell.execute_reply": "2020-11-25T06:06:45.661457Z"
    },
    "papermill": {
     "duration": 0.02571,
     "end_time": "2020-11-25T06:06:45.662241",
     "exception": false,
     "start_time": "2020-11-25T06:06:45.636531",
     "status": "completed"
    },
    "tags": []
   },
   "outputs": [
    {
     "name": "stdout",
     "output_type": "stream",
     "text": [
      "/kaggle/input/urbanchanllange/test.csv\n",
      "/kaggle/input/urbanchanllange/sample_submission.csv\n",
      "/kaggle/input/urbanchanllange/train.csv\n",
      "/kaggle/input/urbanchanllange/poker-hand.names\n"
     ]
    }
   ],
   "source": [
    "# This Python 3 environment comes with many helpful analytics libraries installed\n",
    "# It is defined by the kaggle/python Docker image: https://github.com/kaggle/docker-python\n",
    "# For example, here's several helpful packages to load\n",
    "\n",
    "import numpy as np # linear algebra\n",
    "import pandas as pd # data processing, CSV file I/O (e.g. pd.read_csv)\n",
    "\n",
    "# Input data files are available in the read-only \"../input/\" directory\n",
    "# For example, running this (by clicking run or pressing Shift+Enter) will list all files under the input directory\n",
    "\n",
    "import os\n",
    "for dirname, _, filenames in os.walk('/kaggle/input'):\n",
    "    for filename in filenames:\n",
    "        print(os.path.join(dirname, filename))\n",
    "\n",
    "# You can write up to 20GB to the current directory (/kaggle/working/) that gets preserved as output when you create a version using \"Save & Run All\" \n",
    "# You can also write temporary files to /kaggle/temp/, but they won't be saved outside of the current session"
   ]
  },
  {
   "cell_type": "code",
   "execution_count": 2,
   "metadata": {
    "_cell_guid": "79c7e3d0-c299-4dcb-8224-4455121ee9b0",
    "_uuid": "d629ff2d2480ee46fbb7e2d37f6b5fab8052498a",
    "collapsed": true,
    "execution": {
     "iopub.execute_input": "2020-11-25T06:06:45.691891Z",
     "iopub.status.busy": "2020-11-25T06:06:45.690955Z",
     "iopub.status.idle": "2020-11-25T06:07:02.733920Z",
     "shell.execute_reply": "2020-11-25T06:07:02.732636Z"
    },
    "papermill": {
     "duration": 17.061329,
     "end_time": "2020-11-25T06:07:02.734056",
     "exception": false,
     "start_time": "2020-11-25T06:06:45.672727",
     "status": "completed"
    },
    "tags": []
   },
   "outputs": [
    {
     "name": "stdout",
     "output_type": "stream",
     "text": [
      "Collecting iterative-stratification\r\n",
      "  Downloading iterative_stratification-0.1.6-py3-none-any.whl (8.7 kB)\r\n",
      "Requirement already satisfied: scipy in /opt/conda/lib/python3.7/site-packages (from iterative-stratification) (1.4.1)\r\n",
      "Requirement already satisfied: scikit-learn in /opt/conda/lib/python3.7/site-packages (from iterative-stratification) (0.23.2)\r\n",
      "Requirement already satisfied: numpy in /opt/conda/lib/python3.7/site-packages (from iterative-stratification) (1.18.5)\r\n",
      "Requirement already satisfied: joblib>=0.11 in /opt/conda/lib/python3.7/site-packages (from scikit-learn->iterative-stratification) (0.14.1)\r\n",
      "Requirement already satisfied: threadpoolctl>=2.0.0 in /opt/conda/lib/python3.7/site-packages (from scikit-learn->iterative-stratification) (2.1.0)\r\n",
      "Installing collected packages: iterative-stratification\r\n",
      "Successfully installed iterative-stratification-0.1.6\r\n"
     ]
    }
   ],
   "source": [
    "!pip3 install iterative-stratification\n",
    "import keras\n",
    "import pandas as pd\n",
    "import numpy as np\n",
    "from keras import Sequential\n",
    "from keras.layers import Dense, Dropout\n",
    "from sklearn.model_selection import StratifiedKFold\n",
    "from iterstrat.ml_stratifiers import MultilabelStratifiedKFold\n",
    "from keras.callbacks import EarlyStopping, ModelCheckpoint,ReduceLROnPlateau"
   ]
  },
  {
   "cell_type": "code",
   "execution_count": 3,
   "metadata": {
    "execution": {
     "iopub.execute_input": "2020-11-25T06:07:02.768254Z",
     "iopub.status.busy": "2020-11-25T06:07:02.767491Z",
     "iopub.status.idle": "2020-11-25T06:07:03.959412Z",
     "shell.execute_reply": "2020-11-25T06:07:03.958190Z"
    },
    "papermill": {
     "duration": 1.212364,
     "end_time": "2020-11-25T06:07:03.959546",
     "exception": false,
     "start_time": "2020-11-25T06:07:02.747182",
     "status": "completed"
    },
    "tags": []
   },
   "outputs": [],
   "source": [
    "train = pd.read_csv('/kaggle/input/urbanchanllange/train.csv')\n",
    "test = pd.read_csv('/kaggle/input/urbanchanllange/test.csv')\n",
    "sub = pd.read_csv('/kaggle/input/urbanchanllange/sample_submission.csv')"
   ]
  },
  {
   "cell_type": "code",
   "execution_count": 4,
   "metadata": {
    "execution": {
     "iopub.execute_input": "2020-11-25T06:07:03.998337Z",
     "iopub.status.busy": "2020-11-25T06:07:03.997315Z",
     "iopub.status.idle": "2020-11-25T06:07:04.005998Z",
     "shell.execute_reply": "2020-11-25T06:07:04.006546Z"
    },
    "papermill": {
     "duration": 0.034206,
     "end_time": "2020-11-25T06:07:04.006707",
     "exception": false,
     "start_time": "2020-11-25T06:07:03.972501",
     "status": "completed"
    },
    "tags": []
   },
   "outputs": [
    {
     "data": {
      "text/plain": [
       "array([3, 0, 1, 2, 7, 4, 5, 6, 8])"
      ]
     },
     "execution_count": 4,
     "metadata": {},
     "output_type": "execute_result"
    }
   ],
   "source": [
    "train['CLASS']=train['CLASS'].replace(9,8)\n",
    "train['CLASS'].unique()"
   ]
  },
  {
   "cell_type": "code",
   "execution_count": 5,
   "metadata": {
    "execution": {
     "iopub.execute_input": "2020-11-25T06:07:04.040596Z",
     "iopub.status.busy": "2020-11-25T06:07:04.039463Z",
     "iopub.status.idle": "2020-11-25T06:07:04.542053Z",
     "shell.execute_reply": "2020-11-25T06:07:04.542623Z"
    },
    "papermill": {
     "duration": 0.522911,
     "end_time": "2020-11-25T06:07:04.542799",
     "exception": false,
     "start_time": "2020-11-25T06:07:04.019888",
     "status": "completed"
    },
    "tags": []
   },
   "outputs": [
    {
     "data": {
      "text/html": [
       "<div>\n",
       "<style scoped>\n",
       "    .dataframe tbody tr th:only-of-type {\n",
       "        vertical-align: middle;\n",
       "    }\n",
       "\n",
       "    .dataframe tbody tr th {\n",
       "        vertical-align: top;\n",
       "    }\n",
       "\n",
       "    .dataframe thead th {\n",
       "        text-align: right;\n",
       "    }\n",
       "</style>\n",
       "<table border=\"1\" class=\"dataframe\">\n",
       "  <thead>\n",
       "    <tr style=\"text-align: right;\">\n",
       "      <th></th>\n",
       "      <th>S1</th>\n",
       "      <th>C1</th>\n",
       "      <th>S2</th>\n",
       "      <th>C2</th>\n",
       "      <th>S3</th>\n",
       "      <th>C3</th>\n",
       "      <th>S4</th>\n",
       "      <th>C4</th>\n",
       "      <th>S5</th>\n",
       "      <th>C5</th>\n",
       "    </tr>\n",
       "  </thead>\n",
       "  <tbody>\n",
       "    <tr>\n",
       "      <th>count</th>\n",
       "      <td>1.025010e+06</td>\n",
       "      <td>1.025010e+06</td>\n",
       "      <td>1.025010e+06</td>\n",
       "      <td>1.025010e+06</td>\n",
       "      <td>1.025010e+06</td>\n",
       "      <td>1.025010e+06</td>\n",
       "      <td>1.025010e+06</td>\n",
       "      <td>1.025010e+06</td>\n",
       "      <td>1.025010e+06</td>\n",
       "      <td>1.025010e+06</td>\n",
       "    </tr>\n",
       "    <tr>\n",
       "      <th>mean</th>\n",
       "      <td>2.500695e+00</td>\n",
       "      <td>6.997861e+00</td>\n",
       "      <td>2.499841e+00</td>\n",
       "      <td>7.006295e+00</td>\n",
       "      <td>2.501100e+00</td>\n",
       "      <td>6.999246e+00</td>\n",
       "      <td>2.500284e+00</td>\n",
       "      <td>7.000838e+00</td>\n",
       "      <td>2.499399e+00</td>\n",
       "      <td>6.988828e+00</td>\n",
       "    </tr>\n",
       "    <tr>\n",
       "      <th>std</th>\n",
       "      <td>1.117737e+00</td>\n",
       "      <td>3.743529e+00</td>\n",
       "      <td>1.118646e+00</td>\n",
       "      <td>3.744054e+00</td>\n",
       "      <td>1.118345e+00</td>\n",
       "      <td>3.741964e+00</td>\n",
       "      <td>1.117215e+00</td>\n",
       "      <td>3.741423e+00</td>\n",
       "      <td>1.118942e+00</td>\n",
       "      <td>3.739936e+00</td>\n",
       "    </tr>\n",
       "    <tr>\n",
       "      <th>min</th>\n",
       "      <td>1.000000e+00</td>\n",
       "      <td>1.000000e+00</td>\n",
       "      <td>1.000000e+00</td>\n",
       "      <td>1.000000e+00</td>\n",
       "      <td>1.000000e+00</td>\n",
       "      <td>1.000000e+00</td>\n",
       "      <td>1.000000e+00</td>\n",
       "      <td>1.000000e+00</td>\n",
       "      <td>1.000000e+00</td>\n",
       "      <td>1.000000e+00</td>\n",
       "    </tr>\n",
       "    <tr>\n",
       "      <th>25%</th>\n",
       "      <td>2.000000e+00</td>\n",
       "      <td>4.000000e+00</td>\n",
       "      <td>1.000000e+00</td>\n",
       "      <td>4.000000e+00</td>\n",
       "      <td>1.000000e+00</td>\n",
       "      <td>4.000000e+00</td>\n",
       "      <td>2.000000e+00</td>\n",
       "      <td>4.000000e+00</td>\n",
       "      <td>1.000000e+00</td>\n",
       "      <td>4.000000e+00</td>\n",
       "    </tr>\n",
       "    <tr>\n",
       "      <th>50%</th>\n",
       "      <td>3.000000e+00</td>\n",
       "      <td>7.000000e+00</td>\n",
       "      <td>2.000000e+00</td>\n",
       "      <td>7.000000e+00</td>\n",
       "      <td>3.000000e+00</td>\n",
       "      <td>7.000000e+00</td>\n",
       "      <td>3.000000e+00</td>\n",
       "      <td>7.000000e+00</td>\n",
       "      <td>2.000000e+00</td>\n",
       "      <td>7.000000e+00</td>\n",
       "    </tr>\n",
       "    <tr>\n",
       "      <th>75%</th>\n",
       "      <td>3.000000e+00</td>\n",
       "      <td>1.000000e+01</td>\n",
       "      <td>4.000000e+00</td>\n",
       "      <td>1.000000e+01</td>\n",
       "      <td>4.000000e+00</td>\n",
       "      <td>1.000000e+01</td>\n",
       "      <td>3.000000e+00</td>\n",
       "      <td>1.000000e+01</td>\n",
       "      <td>4.000000e+00</td>\n",
       "      <td>1.000000e+01</td>\n",
       "    </tr>\n",
       "    <tr>\n",
       "      <th>max</th>\n",
       "      <td>4.000000e+00</td>\n",
       "      <td>1.300000e+01</td>\n",
       "      <td>4.000000e+00</td>\n",
       "      <td>1.300000e+01</td>\n",
       "      <td>4.000000e+00</td>\n",
       "      <td>1.300000e+01</td>\n",
       "      <td>4.000000e+00</td>\n",
       "      <td>1.300000e+01</td>\n",
       "      <td>4.000000e+00</td>\n",
       "      <td>1.300000e+01</td>\n",
       "    </tr>\n",
       "  </tbody>\n",
       "</table>\n",
       "</div>"
      ],
      "text/plain": [
       "                 S1            C1            S2            C2            S3  \\\n",
       "count  1.025010e+06  1.025010e+06  1.025010e+06  1.025010e+06  1.025010e+06   \n",
       "mean   2.500695e+00  6.997861e+00  2.499841e+00  7.006295e+00  2.501100e+00   \n",
       "std    1.117737e+00  3.743529e+00  1.118646e+00  3.744054e+00  1.118345e+00   \n",
       "min    1.000000e+00  1.000000e+00  1.000000e+00  1.000000e+00  1.000000e+00   \n",
       "25%    2.000000e+00  4.000000e+00  1.000000e+00  4.000000e+00  1.000000e+00   \n",
       "50%    3.000000e+00  7.000000e+00  2.000000e+00  7.000000e+00  3.000000e+00   \n",
       "75%    3.000000e+00  1.000000e+01  4.000000e+00  1.000000e+01  4.000000e+00   \n",
       "max    4.000000e+00  1.300000e+01  4.000000e+00  1.300000e+01  4.000000e+00   \n",
       "\n",
       "                 C3            S4            C4            S5            C5  \n",
       "count  1.025010e+06  1.025010e+06  1.025010e+06  1.025010e+06  1.025010e+06  \n",
       "mean   6.999246e+00  2.500284e+00  7.000838e+00  2.499399e+00  6.988828e+00  \n",
       "std    3.741964e+00  1.117215e+00  3.741423e+00  1.118942e+00  3.739936e+00  \n",
       "min    1.000000e+00  1.000000e+00  1.000000e+00  1.000000e+00  1.000000e+00  \n",
       "25%    4.000000e+00  2.000000e+00  4.000000e+00  1.000000e+00  4.000000e+00  \n",
       "50%    7.000000e+00  3.000000e+00  7.000000e+00  2.000000e+00  7.000000e+00  \n",
       "75%    1.000000e+01  3.000000e+00  1.000000e+01  4.000000e+00  1.000000e+01  \n",
       "max    1.300000e+01  4.000000e+00  1.300000e+01  4.000000e+00  1.300000e+01  "
      ]
     },
     "execution_count": 5,
     "metadata": {},
     "output_type": "execute_result"
    }
   ],
   "source": [
    "alldata=pd.concat([train,test],sort=False)\n",
    "alldata=alldata.drop(['Id','CLASS'],axis=1)\n",
    "alldata.describe()"
   ]
  },
  {
   "cell_type": "code",
   "execution_count": 6,
   "metadata": {
    "execution": {
     "iopub.execute_input": "2020-11-25T06:07:04.578439Z",
     "iopub.status.busy": "2020-11-25T06:07:04.577345Z",
     "iopub.status.idle": "2020-11-25T06:07:04.583975Z",
     "shell.execute_reply": "2020-11-25T06:07:04.583269Z"
    },
    "papermill": {
     "duration": 0.026657,
     "end_time": "2020-11-25T06:07:04.584127",
     "exception": false,
     "start_time": "2020-11-25T06:07:04.557470",
     "status": "completed"
    },
    "tags": []
   },
   "outputs": [],
   "source": [
    "train2=alldata[:len(train)].astype(float)\n",
    "test2=alldata[len(train):]"
   ]
  },
  {
   "cell_type": "code",
   "execution_count": 7,
   "metadata": {
    "execution": {
     "iopub.execute_input": "2020-11-25T06:07:04.618454Z",
     "iopub.status.busy": "2020-11-25T06:07:04.617498Z",
     "iopub.status.idle": "2020-11-25T06:07:04.622778Z",
     "shell.execute_reply": "2020-11-25T06:07:04.622171Z"
    },
    "papermill": {
     "duration": 0.024702,
     "end_time": "2020-11-25T06:07:04.622888",
     "exception": false,
     "start_time": "2020-11-25T06:07:04.598186",
     "status": "completed"
    },
    "tags": []
   },
   "outputs": [],
   "source": [
    "y = train.iloc[:,-1]\n",
    "y = keras.utils.to_categorical(y, 9)\n",
    "test = test.iloc[:,1:]"
   ]
  },
  {
   "cell_type": "markdown",
   "metadata": {
    "papermill": {
     "duration": 0.014176,
     "end_time": "2020-11-25T06:07:04.651330",
     "exception": false,
     "start_time": "2020-11-25T06:07:04.637154",
     "status": "completed"
    },
    "tags": []
   },
   "source": [
    "* kfold로 인한 출력량과 시간 소비 때문에 주석 처리로 대체 합니다."
   ]
  },
  {
   "cell_type": "code",
   "execution_count": 8,
   "metadata": {
    "execution": {
     "iopub.execute_input": "2020-11-25T06:07:04.687389Z",
     "iopub.status.busy": "2020-11-25T06:07:04.685382Z",
     "iopub.status.idle": "2020-11-25T06:07:04.688141Z",
     "shell.execute_reply": "2020-11-25T06:07:04.688668Z"
    },
    "papermill": {
     "duration": 0.023305,
     "end_time": "2020-11-25T06:07:04.688815",
     "exception": false,
     "start_time": "2020-11-25T06:07:04.665510",
     "status": "completed"
    },
    "tags": []
   },
   "outputs": [],
   "source": [
    "# reLR = ReduceLROnPlateau(patience=300,verbose=1,factor=0.65)\n",
    "# mskf = MultilabelStratifiedKFold(n_splits=20, shuffle=True, random_state=0)\n",
    "# result=0\n",
    "# loop = 0\n",
    "# for train_index, valid_index in mskf.split(train2,y) :\n",
    "#     loop +=1\n",
    "#     print('~~~~~~~~~~~~~~~~~~~~~~~~~~~~~~~~~~~~~~~~~~~~~~~~~~~~~~~~~~~~~~~~~~~~~~~~~~~~~~~~~{}번째~~~~~~~~~~~~~~~~~~~~~~~~~~~~~~~~~~~~~~~'.format(loop))\n",
    "#     x_train=train2.iloc[train_index]\n",
    "#     x_valid=train2.iloc[valid_index]\n",
    "#     y_train=y[train_index]\n",
    "#     y_valid=y[valid_index]    \n",
    "#     es=EarlyStopping(patience=550,verbose=1)\n",
    "#     mc=ModelCheckpoint(\"./v2_980_k20_{}.h5\".format(loop),save_best_only=True,verbose=1)\n",
    "    \n",
    "#     model=Sequential()\n",
    "    \n",
    "#     model.add(Dense(3140,activation='relu',input_dim=train2.shape[1]))\n",
    "#     model.add(Dense(3140,activation='relu'))\n",
    "    \n",
    "#     model.add(Dense(2344,activation='relu'))\n",
    "#     model.add(Dense(2344,activation='relu'))\n",
    "\n",
    "#     model.add(Dense(1532,activation='relu'))\n",
    "#     model.add(Dense(1532,activation='relu'))\n",
    "\n",
    "#     model.add(Dense(730,activation='relu'))\n",
    "#     model.add(Dense(730,activation='relu'))\n",
    "    \n",
    "#     model.add(Dense(330,activation='relu'))\n",
    "#     model.add(Dense(330,activation='relu'))\n",
    "\n",
    "#     model.add(Dense(130,activation='relu'))\n",
    "#     model.add(Dense(130,activation='relu'))\n",
    "    \n",
    "#     model.add(Dense(30,activation='relu'))\n",
    "#     model.add(Dense(30,activation='relu'))\n",
    "    \n",
    "#     model.add(Dense(9,activation = 'softmax'))\n",
    "#     model.compile(metrics=['acc'], loss = 'categorical_crossentropy', optimizer='adam')\n",
    "#     model.fit(x_train,y_train,epochs=5000,validation_data=(x_valid,y_valid),callbacks=[es,mc,reLR],batch_size=256) \n",
    "#     model.load_weights(\"./v2_980_k20_{}.h5\".format(loop))\n",
    "#     result+=model.predict(test)/20\n",
    "# pd.DataFrame(result).to_csv('predict_980_2_k20.csv',index=False)"
   ]
  },
  {
   "cell_type": "code",
   "execution_count": 9,
   "metadata": {
    "execution": {
     "iopub.execute_input": "2020-11-25T06:07:04.725619Z",
     "iopub.status.busy": "2020-11-25T06:07:04.724357Z",
     "iopub.status.idle": "2020-11-25T06:07:05.098027Z",
     "shell.execute_reply": "2020-11-25T06:07:05.097424Z"
    },
    "papermill": {
     "duration": 0.394771,
     "end_time": "2020-11-25T06:07:05.098149",
     "exception": false,
     "start_time": "2020-11-25T06:07:04.703378",
     "status": "completed"
    },
    "tags": []
   },
   "outputs": [
    {
     "ename": "NameError",
     "evalue": "name 'result' is not defined",
     "output_type": "error",
     "traceback": [
      "\u001b[0;31m---------------------------------------------------------------------------\u001b[0m",
      "\u001b[0;31mNameError\u001b[0m                                 Traceback (most recent call last)",
      "\u001b[0;32m<ipython-input-9-66e63bba886d>\u001b[0m in \u001b[0;36m<module>\u001b[0;34m\u001b[0m\n\u001b[1;32m      1\u001b[0m \u001b[0msub\u001b[0m\u001b[0;34m[\u001b[0m\u001b[0;34m'CLASS'\u001b[0m\u001b[0;34m]\u001b[0m \u001b[0;34m=\u001b[0m \u001b[0;36m0\u001b[0m\u001b[0;34m\u001b[0m\u001b[0;34m\u001b[0m\u001b[0m\n\u001b[0;32m----> 2\u001b[0;31m \u001b[0msub\u001b[0m\u001b[0;34m[\u001b[0m\u001b[0;34m'CLASS'\u001b[0m\u001b[0;34m]\u001b[0m \u001b[0;34m=\u001b[0m \u001b[0mresult\u001b[0m\u001b[0;34m.\u001b[0m\u001b[0margmax\u001b[0m\u001b[0;34m(\u001b[0m\u001b[0maxis\u001b[0m\u001b[0;34m=\u001b[0m\u001b[0;36m1\u001b[0m\u001b[0;34m)\u001b[0m\u001b[0;34m\u001b[0m\u001b[0;34m\u001b[0m\u001b[0m\n\u001b[0m\u001b[1;32m      3\u001b[0m \u001b[0msub\u001b[0m\u001b[0;34m[\u001b[0m\u001b[0;34m'CLASS'\u001b[0m\u001b[0;34m]\u001b[0m \u001b[0;34m=\u001b[0m \u001b[0msub\u001b[0m\u001b[0;34m[\u001b[0m\u001b[0;34m'CLASS'\u001b[0m\u001b[0;34m]\u001b[0m\u001b[0;34m.\u001b[0m\u001b[0mreplace\u001b[0m\u001b[0;34m(\u001b[0m\u001b[0;36m8\u001b[0m\u001b[0;34m,\u001b[0m\u001b[0;36m9\u001b[0m\u001b[0;34m)\u001b[0m\u001b[0;34m\u001b[0m\u001b[0;34m\u001b[0m\u001b[0m\n\u001b[1;32m      4\u001b[0m \u001b[0msub\u001b[0m\u001b[0;34m[\u001b[0m\u001b[0;34m'CLASS'\u001b[0m\u001b[0;34m]\u001b[0m\u001b[0;34m.\u001b[0m\u001b[0mvalue_counts\u001b[0m\u001b[0;34m(\u001b[0m\u001b[0;34m)\u001b[0m\u001b[0;34m\u001b[0m\u001b[0;34m\u001b[0m\u001b[0m\n",
      "\u001b[0;31mNameError\u001b[0m: name 'result' is not defined"
     ]
    }
   ],
   "source": [
    "sub['CLASS'] = 0\n",
    "sub['CLASS'] = result.argmax(axis=1)\n",
    "sub['CLASS'] = sub['CLASS'].replace(8,9)\n",
    "sub['CLASS'].value_counts()"
   ]
  },
  {
   "cell_type": "code",
   "execution_count": 10,
   "metadata": {
    "execution": {
     "iopub.execute_input": "2020-11-25T06:07:05.133627Z",
     "iopub.status.busy": "2020-11-25T06:07:05.132984Z",
     "iopub.status.idle": "2020-11-25T06:07:07.437781Z",
     "shell.execute_reply": "2020-11-25T06:07:07.436579Z"
    },
    "papermill": {
     "duration": 2.324519,
     "end_time": "2020-11-25T06:07:07.437913",
     "exception": false,
     "start_time": "2020-11-25T06:07:05.113394",
     "status": "completed"
    },
    "tags": []
   },
   "outputs": [],
   "source": [
    "sub.to_csv('sub_980_2_k20.csv',index=False)"
   ]
  }
 ],
 "metadata": {
  "kernelspec": {
   "display_name": "Python 3",
   "language": "python",
   "name": "python3"
  },
  "language_info": {
   "codemirror_mode": {
    "name": "ipython",
    "version": 3
   },
   "file_extension": ".py",
   "mimetype": "text/x-python",
   "name": "python",
   "nbconvert_exporter": "python",
   "pygments_lexer": "ipython3",
   "version": "3.7.6"
  },
  "papermill": {
   "duration": 27.870021,
   "end_time": "2020-11-25T06:07:08.556271",
   "environment_variables": {},
   "exception": null,
   "input_path": "__notebook__.ipynb",
   "output_path": "__notebook__.ipynb",
   "parameters": {},
   "start_time": "2020-11-25T06:06:40.686250",
   "version": "2.1.0"
  }
 },
 "nbformat": 4,
 "nbformat_minor": 4
}
