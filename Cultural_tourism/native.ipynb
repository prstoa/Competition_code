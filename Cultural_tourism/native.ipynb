{
 "cells": [
  {
   "cell_type": "code",
   "execution_count": 1,
   "metadata": {},
   "outputs": [],
   "source": [
    "import pandas as pd\n",
    "import numpy as np\n",
    "import matplotlib.pyplot as plt\n",
    "import seaborn as sns"
   ]
  },
  {
   "cell_type": "markdown",
   "metadata": {},
   "source": [
    "- vlm/usec : 물가, 시세 느낌"
   ]
  },
  {
   "cell_type": "code",
   "execution_count": 2,
   "metadata": {},
   "outputs": [],
   "source": [
    "native=pd.read_csv('native.csv')\n",
    "native_refund=pd.read_csv('native_refund.csv')"
   ]
  },
  {
   "cell_type": "code",
   "execution_count": 12,
   "metadata": {},
   "outputs": [
    {
     "data": {
      "text/plain": [
       "여행        5726159\n",
       "문화예술활동    2837190\n",
       "스포츠활동        3158\n",
       "Name: gb3, dtype: int64"
      ]
     },
     "execution_count": 12,
     "metadata": {},
     "output_type": "execute_result"
    }
   ],
   "source": [
    "native['gb3'].value_counts()"
   ]
  },
  {
   "cell_type": "code",
   "execution_count": 15,
   "metadata": {},
   "outputs": [
    {
     "data": {
      "text/plain": [
       "array(['숙박', '교통', '관광쇼핑', '여행사', '체험'], dtype=object)"
      ]
     },
     "execution_count": 15,
     "metadata": {},
     "output_type": "execute_result"
    }
   ],
   "source": [
    "native[native['gb3']=='여행']['gb2'].unique()"
   ]
  },
  {
   "cell_type": "code",
   "execution_count": 19,
   "metadata": {},
   "outputs": [],
   "source": [
    "native_travel=native[native['gb3']=='여행']\n",
    "native_culture=native[native['gb3']=='문화예술활동']\n",
    "native_sport=native[native['gb3']=='스포츠활동']\n",
    "native_travel.to_csv('native_travel.csv',index=False)\n",
    "native_culture.to_csv('native_culture.csv',index=False)\n",
    "native_sport.to_csv('native_sport.csv',index=False)"
   ]
  },
  {
   "cell_type": "code",
   "execution_count": 5,
   "metadata": {
    "scrolled": false
   },
   "outputs": [],
   "source": [
    "# native[native['vlm']<100000]"
   ]
  },
  {
   "cell_type": "code",
   "execution_count": 6,
   "metadata": {
    "scrolled": false
   },
   "outputs": [],
   "source": [
    "# a,b=plt.subplots(5,1,figsize=(20,40))\n",
    "# sns.distplot(native['vlm'][native['vlm']<20000],ax=b[0])\n",
    "# sns.distplot(native['vlm'][native['vlm']<5000],ax=b[1])\n",
    "# sns.distplot(native['vlm'][native['vlm']<5000][native['vlm']>4500],ax=b[2])\n",
    "# sns.distplot(native['vlm'][native['vlm']<4900][native['vlm']>4800],ax=b[3])\n",
    "# sns.distplot(native['vlm'][native['vlm']<4860][native['vlm']>4840],ax=b[4])"
   ]
  },
  {
   "cell_type": "code",
   "execution_count": 7,
   "metadata": {},
   "outputs": [],
   "source": [
    "# a,b=plt.subplots(3,1,figsize=(20,20))\n",
    "# sns.distplot(native['vlm'][native['vlm']<100000],ax=b[0])\n",
    "# sns.distplot(native['vlm'][native['vlm']<50000],ax=b[1])\n",
    "# sns.distplot(native['vlm'][native['vlm']<20000],ax=b[2])"
   ]
  },
  {
   "cell_type": "code",
   "execution_count": 8,
   "metadata": {},
   "outputs": [],
   "source": [
    "# native[native['vlm']<4850]"
   ]
  },
  {
   "cell_type": "markdown",
   "metadata": {},
   "source": [
    "0,0, 1500, 5000, 7000, 1500, 5000, 7000,1500, 5000, 7000,1500, 5000, 7000,1500, 5000, 7000,1500, 5000, 7000,1500, 5000, 7000,1500, 5000, 7000"
   ]
  }
 ],
 "metadata": {
  "kernelspec": {
   "display_name": "Python 3",
   "language": "python",
   "name": "python3"
  },
  "language_info": {
   "codemirror_mode": {
    "name": "ipython",
    "version": 3
   },
   "file_extension": ".py",
   "mimetype": "text/x-python",
   "name": "python",
   "nbconvert_exporter": "python",
   "pygments_lexer": "ipython3",
   "version": "3.8.5"
  }
 },
 "nbformat": 4,
 "nbformat_minor": 4
}
